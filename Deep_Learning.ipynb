{
  "nbformat": 4,
  "nbformat_minor": 0,
  "metadata": {
    "colab": {
      "private_outputs": true,
      "provenance": []
    },
    "kernelspec": {
      "name": "python3",
      "display_name": "Python 3"
    },
    "language_info": {
      "name": "python"
    }
  },
  "cells": [
    {
      "cell_type": "markdown",
      "source": [
        "EXPERIMENT-01"
      ],
      "metadata": {
        "id": "tXKQWTzKVLgr"
      }
    },
    {
      "cell_type": "code",
      "source": [
        "import numpy as np\n",
        "import pandas as pd\n",
        "import math\n"
      ],
      "metadata": {
        "id": "uB_o9Q8rM2_H"
      },
      "execution_count": null,
      "outputs": []
    },
    {
      "cell_type": "code",
      "source": [
        "X=np.array([0.4,0.5,0.6])\n",
        "W=np.array([0.2,0.3,0.4])\n",
        "b=0.4\n",
        "\n",
        "def stepfunction(t):\n",
        "  if t>0:\n",
        "    return 1\n",
        "  else:\n",
        "    return 0\n",
        "def prediction(X,W,b):\n",
        "  return stepfunction((np.matmul(X,W)+b))\n",
        "\n",
        "print(prediction(X,W,b))"
      ],
      "metadata": {
        "id": "a7pW5qWDNijg"
      },
      "execution_count": null,
      "outputs": []
    },
    {
      "cell_type": "code",
      "source": [
        "import numpy as np\n",
        "\n",
        "def unitStep(v):\n",
        "\tif v >= 0:\n",
        "\t\treturn 1\n",
        "\telse:\n",
        "\t\treturn 0\n",
        "\n",
        "def perceptronModel(x, w, b):\n",
        "\tv = np.dot(w, x) + b\n",
        "\ty = unitStep(v)\n",
        "\treturn y\n",
        "\n",
        "\n",
        "def AND_logicFunction(x):\n",
        "\tw = np.array([1, 1])\n",
        "\tb = -1.5\n",
        "\treturn perceptronModel(x, w, b)\n",
        "\n",
        "\n",
        "test1 = np.array([0, 0])\n",
        "test2 = np.array([0, 1])\n",
        "test3 = np.array([0, 0])\n",
        "test4 = np.array([1, 1])\n",
        "\n",
        "print(\"AND({}, {}) = {}\".format(0, 1, AND_logicFunction(test1)))\n",
        "print(\"AND({}, {}) = {}\".format(1, 1, AND_logicFunction(test2)))\n",
        "print(\"AND({}, {}) = {}\".format(0, 0, AND_logicFunction(test3)))\n",
        "print(\"AND({}, {}) = {}\".format(1, 0, AND_logicFunction(test4)))\n"
      ],
      "metadata": {
        "id": "38eTdTy0K1xG"
      },
      "execution_count": null,
      "outputs": []
    },
    {
      "cell_type": "markdown",
      "source": [
        "Experiment-02\n"
      ],
      "metadata": {
        "id": "lHO7oLmYampW"
      }
    },
    {
      "cell_type": "markdown",
      "source": [
        "Implementation of AND OR gates using Perception"
      ],
      "metadata": {
        "id": "KpJreugbbG_N"
      }
    },
    {
      "cell_type": "code",
      "source": [
        "\n",
        "import numpy as np\n",
        "import random\n",
        "import sys"
      ],
      "metadata": {
        "id": "qUNNQhNlbI--"
      },
      "execution_count": null,
      "outputs": []
    },
    {
      "cell_type": "code",
      "source": [
        "\n",
        "and_gate = [\n",
        "# [(inputs), expected output]\n",
        "    [(1, 1), 1],\n",
        "    [(1, -1), -1],\n",
        "    [(-1, 1), -1],\n",
        "    [(-1, -1), -1]\n",
        "]"
      ],
      "metadata": {
        "id": "0oFnoXBrbUi4"
      },
      "execution_count": null,
      "outputs": []
    },
    {
      "cell_type": "code",
      "source": [
        "\n",
        "or_gate = [\n",
        "    [(1, 1), 1],\n",
        "    [(1, -1), 1],\n",
        "    [(-1, 1), 1],\n",
        "    [(-1, -1), -1]\n",
        "]"
      ],
      "metadata": {
        "id": "bGdgx5E1beHd"
      },
      "execution_count": null,
      "outputs": []
    },
    {
      "cell_type": "code",
      "source": [
        "\n",
        "def activation_function(x):\n",
        "    if x > 0:\n",
        "        return 1\n",
        "    elif x < 0:\n",
        "        return -1\n",
        ""
      ],
      "metadata": {
        "id": "8RU7YSzubeE1"
      },
      "execution_count": null,
      "outputs": []
    },
    {
      "cell_type": "code",
      "source": [
        "def run_perceptron(gate):\n",
        "    bias = (1,) # the bias is always one\n",
        "    learning_constant = 0.1\n",
        "    n = 50 # how many times the machine learns\n",
        "\n",
        "    weights = []\n",
        "\n",
        "    # initialize with 3 random weights between -1 and 1, one for each input and one for the bias\n",
        "    for i in range(3):\n",
        "        weights.append(random.uniform(-1, 1))\n",
        "\n",
        "    for i in range(n):\n",
        "        inputs, expected_output = random.choice(gate)\n",
        "        inputs = inputs + bias # add the bias here\n",
        "        weighted_sum = np.dot(inputs, weights)\n",
        "        guess = activation_function(weighted_sum) # find the sign of the weighted sum\n",
        "        error = expected_output - guess\n",
        "        weights += learning_constant * error * np.asarray(inputs) # change the weights to include the error times input, won't change if there's no error\n",
        "\n",
        "\n",
        "    inputs, expected_output = random.choice(gate)\n",
        "    print(\"inputs: \" + str(inputs))\n",
        "    inputs = inputs + bias\n",
        "    weighted_sum = np.dot(inputs, weights)\n",
        "    print(\"weighted sum: \" + str(weighted_sum))\n",
        "    print(\"correct answer: \" + str(expected_output))\n",
        "    print(\"perceptron guess: \" + str(activation_function(weighted_sum)) + '\\n')"
      ],
      "metadata": {
        "id": "fUdOMhk6beCN"
      },
      "execution_count": null,
      "outputs": []
    },
    {
      "cell_type": "code",
      "source": [
        "tests=2\n",
        "for i in range(tests):\n",
        "    print(\"// AND //\")\n",
        "    run_perceptron(and_gate)\n",
        "\n",
        "    print(\"// OR //\")\n",
        "    run_perceptron(or_gate)"
      ],
      "metadata": {
        "id": "0o1vl5OGbd_l"
      },
      "execution_count": null,
      "outputs": []
    },
    {
      "cell_type": "code",
      "source": [],
      "metadata": {
        "id": "faZI_6BIbd8Y"
      },
      "execution_count": null,
      "outputs": []
    },
    {
      "cell_type": "code",
      "source": [],
      "metadata": {
        "id": "NT_U9aUubd27"
      },
      "execution_count": null,
      "outputs": []
    },
    {
      "cell_type": "code",
      "source": [],
      "metadata": {
        "id": "bWvcYtKsbdyd"
      },
      "execution_count": null,
      "outputs": []
    },
    {
      "cell_type": "code",
      "source": [],
      "metadata": {
        "id": "tutriYgebdql"
      },
      "execution_count": null,
      "outputs": []
    },
    {
      "cell_type": "code",
      "source": [],
      "metadata": {
        "id": "lcDG4b8ibdgf"
      },
      "execution_count": null,
      "outputs": []
    },
    {
      "cell_type": "code",
      "source": [],
      "metadata": {
        "id": "UoUJWtGqbdag"
      },
      "execution_count": null,
      "outputs": []
    },
    {
      "cell_type": "code",
      "source": [],
      "metadata": {
        "id": "AfZ-V1bybdXr"
      },
      "execution_count": null,
      "outputs": []
    },
    {
      "cell_type": "code",
      "source": [],
      "metadata": {
        "id": "GZK8GpHBbdTN"
      },
      "execution_count": null,
      "outputs": []
    },
    {
      "cell_type": "code",
      "source": [],
      "metadata": {
        "id": "zjaM_gdlbdP9"
      },
      "execution_count": null,
      "outputs": []
    },
    {
      "cell_type": "code",
      "source": [],
      "metadata": {
        "id": "FBgjOYICbdMG"
      },
      "execution_count": null,
      "outputs": []
    },
    {
      "cell_type": "code",
      "source": [],
      "metadata": {
        "id": "xnCo4dp1bdGW"
      },
      "execution_count": null,
      "outputs": []
    },
    {
      "cell_type": "code",
      "source": [],
      "metadata": {
        "id": "U1h6N9dhbc_W"
      },
      "execution_count": null,
      "outputs": []
    }
  ]
}